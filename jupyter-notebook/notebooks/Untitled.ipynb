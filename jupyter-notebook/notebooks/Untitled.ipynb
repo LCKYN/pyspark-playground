{
 "cells": [
  {
   "cell_type": "code",
   "execution_count": 1,
   "id": "0499e275-5e23-40ea-bec3-14f87267ed08",
   "metadata": {},
   "outputs": [
    {
     "name": "stdout",
     "output_type": "stream",
     "text": [
      "Python 3.11.5\n"
     ]
    }
   ],
   "source": [
    "!python --version"
   ]
  },
  {
   "cell_type": "code",
   "execution_count": 1,
   "id": "98027d1d-62e8-4205-b2bd-afad6d1e28fd",
   "metadata": {},
   "outputs": [],
   "source": [
    "import os\n",
    "import sys\n",
    "from pyspark import SparkConf, SparkContext"
   ]
  },
  {
   "cell_type": "code",
   "execution_count": 2,
   "id": "a0548fb1-c972-481e-868f-bf1d1eb85b01",
   "metadata": {},
   "outputs": [
    {
     "data": {
      "text/plain": [
       "'/opt/conda/bin/python'"
      ]
     },
     "execution_count": 2,
     "metadata": {},
     "output_type": "execute_result"
    }
   ],
   "source": [
    "sys.executable"
   ]
  },
  {
   "cell_type": "code",
   "execution_count": 3,
   "id": "7128a154-2440-4026-b0db-373e5af26d88",
   "metadata": {},
   "outputs": [],
   "source": [
    "os.environ['PYSPARK_PYTHON'] = sys.executable\n",
    "os.environ['PYSPARK_DRIVER_PYTHON'] = sys.executable"
   ]
  },
  {
   "cell_type": "code",
   "execution_count": 4,
   "id": "aef5e9c0-461c-46c2-b8fa-3d700848a9a9",
   "metadata": {},
   "outputs": [],
   "source": [
    "spark_master = \"spark://spark-master:7077\"\n",
    "conf = SparkConf().setAppName(\"from notebook\").setMaster(spark_master)\n",
    "sc = SparkContext(conf=conf).getOrCreate()"
   ]
  },
  {
   "cell_type": "code",
   "execution_count": 7,
   "id": "9a6525ca-9717-4f39-8697-7bc68a19a9c9",
   "metadata": {},
   "outputs": [],
   "source": [
    "rdd = sc.parallelize([1, 2, 3, 4, 5])\n",
    "transformed_rdd = rdd.map(lambda x: 3 * x)\n",
    "result = transformed_rdd.collect()"
   ]
  },
  {
   "cell_type": "code",
   "execution_count": 8,
   "id": "a47fd27a-1728-48cf-8aaf-ff4aaa5e4d85",
   "metadata": {},
   "outputs": [
    {
     "name": "stdout",
     "output_type": "stream",
     "text": [
      "Result from Spark: [3, 6, 9, 12, 15]\n"
     ]
    }
   ],
   "source": [
    "print(\"Result from Spark:\", result)\n",
    "sc.stop()"
   ]
  },
  {
   "cell_type": "code",
   "execution_count": null,
   "id": "4790d4e4-b573-437e-96bd-65e392c461a6",
   "metadata": {},
   "outputs": [],
   "source": []
  },
  {
   "cell_type": "code",
   "execution_count": null,
   "id": "ae0b4e7d-cb47-4c3a-ac47-d3ab2d6f1df0",
   "metadata": {},
   "outputs": [],
   "source": []
  }
 ],
 "metadata": {
  "kernelspec": {
   "display_name": "Python 3 (ipykernel)",
   "language": "python",
   "name": "python3"
  },
  "language_info": {
   "codemirror_mode": {
    "name": "ipython",
    "version": 3
   },
   "file_extension": ".py",
   "mimetype": "text/x-python",
   "name": "python",
   "nbconvert_exporter": "python",
   "pygments_lexer": "ipython3",
   "version": "3.11.5"
  }
 },
 "nbformat": 4,
 "nbformat_minor": 5
}
